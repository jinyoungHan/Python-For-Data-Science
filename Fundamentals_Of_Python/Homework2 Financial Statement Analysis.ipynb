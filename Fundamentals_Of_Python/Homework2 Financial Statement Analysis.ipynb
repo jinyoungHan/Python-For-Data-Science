{
 "cells": [
  {
   "cell_type": "markdown",
   "metadata": {},
   "source": [
    "### Section 3 Homework Solution"
   ]
  },
  {
   "cell_type": "code",
   "execution_count": 2,
   "metadata": {},
   "outputs": [],
   "source": [
    "#Data Link : https://www.superdatascience.com/python/ \n",
    "revenue = [14574.49, 7606.46, 8611.41, 9175.41, 8058.65, 8105.44, 11496.28, 9766.09, 10305.32, 14379.96, 10713.97, 15433.50]\n",
    "expenses = [12051.82, 5695.07, 12319.20, 12089.72, 8658.57, 840.20, 3285.73, 5821.12, 6976.93, 16618.61, 10054.37, 3803.96]"
   ]
  },
  {
   "cell_type": "code",
   "execution_count": 4,
   "metadata": {},
   "outputs": [
    {
     "data": {
      "text/plain": [
       "[2522.67,\n",
       " 1911.3900000000003,\n",
       " -3707.790000000001,\n",
       " -2914.3099999999995,\n",
       " -599.9200000000001,\n",
       " 7265.24,\n",
       " 8210.550000000001,\n",
       " 3944.9700000000003,\n",
       " 3328.3899999999994,\n",
       " -2238.6500000000015,\n",
       " 659.5999999999985,\n",
       " 11629.54]"
      ]
     },
     "execution_count": 4,
     "metadata": {},
     "output_type": "execute_result"
    }
   ],
   "source": [
    "# Caculation profit (revenue - expenses)\n",
    "profit = list([])\n",
    "\n",
    "for i in range(0, len(revenue)):\n",
    "    profit.append(revenue[i] - expenses[i])\n",
    "profit"
   ]
  },
  {
   "cell_type": "code",
   "execution_count": 5,
   "metadata": {},
   "outputs": [
    {
     "data": {
      "text/plain": [
       "[756.8,\n",
       " 573.42,\n",
       " -1112.34,\n",
       " -874.29,\n",
       " -179.98,\n",
       " 2179.57,\n",
       " 2463.17,\n",
       " 1183.49,\n",
       " 998.52,\n",
       " -671.6,\n",
       " 197.88,\n",
       " 3488.86]"
      ]
     },
     "execution_count": 5,
     "metadata": {},
     "output_type": "execute_result"
    }
   ],
   "source": [
    "# Calculating tax (profit x 30%)\n",
    "tax = [round(i * 0.3, 2) for i in profit]\n",
    "tax"
   ]
  },
  {
   "cell_type": "code",
   "execution_count": 6,
   "metadata": {},
   "outputs": [
    {
     "data": {
      "text/plain": [
       "[1765.8700000000001,\n",
       " 1337.9700000000003,\n",
       " -2595.4500000000007,\n",
       " -2040.0199999999995,\n",
       " -419.94000000000005,\n",
       " 5085.67,\n",
       " 5747.380000000001,\n",
       " 2761.4800000000005,\n",
       " 2329.8699999999994,\n",
       " -1567.0500000000015,\n",
       " 461.71999999999855,\n",
       " 8140.68]"
      ]
     },
     "execution_count": 6,
     "metadata": {},
     "output_type": "execute_result"
    }
   ],
   "source": [
    "# profit after tax\n",
    "profit_after_tax = list([])\n",
    "\n",
    "for i in range(0, len(profit)):\n",
    "    profit_after_tax.append(profit[i] - tax[i])\n",
    "profit_after_tax"
   ]
  },
  {
   "cell_type": "code",
   "execution_count": 9,
   "metadata": {},
   "outputs": [
    {
     "data": {
      "text/plain": [
       "[12.12,\n",
       " 17.59,\n",
       " -30.14,\n",
       " -22.23,\n",
       " -5.21,\n",
       " 62.74,\n",
       " 49.99,\n",
       " 28.28,\n",
       " 22.61,\n",
       " -10.9,\n",
       " 4.31,\n",
       " 52.75]"
      ]
     },
     "execution_count": 9,
     "metadata": {},
     "output_type": "execute_result"
    }
   ],
   "source": [
    "#profit margin after tax\n",
    "profit_margin = list([])\n",
    "\n",
    "for i in range(0, len(profit)):\n",
    "    profit_margin.append(profit_after_tax[i]/revenue[i])\n",
    "\n",
    "profit_margin = [round(i * 100, 2) for i in profit_margin]\n",
    "profit_margin"
   ]
  },
  {
   "cell_type": "code",
   "execution_count": 10,
   "metadata": {},
   "outputs": [
    {
     "data": {
      "text/plain": [
       "1750.6816666666666"
      ]
     },
     "execution_count": 10,
     "metadata": {},
     "output_type": "execute_result"
    }
   ],
   "source": [
    "#profit after tax mean\n",
    "mean_pat = sum(profit_after_tax)/len(profit_after_tax)\n",
    "mean_pat"
   ]
  },
  {
   "cell_type": "code",
   "execution_count": 13,
   "metadata": {},
   "outputs": [
    {
     "data": {
      "text/plain": [
       "[True, False, False, False, False, True, True, True, True, False, False, True]"
      ]
     },
     "execution_count": 13,
     "metadata": {},
     "output_type": "execute_result"
    }
   ],
   "source": [
    "good_months = list([])\n",
    "for i in range(0, len(profit)):\n",
    "    good_months.append(profit_after_tax[i] > mean_pat)\n",
    "good_months"
   ]
  },
  {
   "cell_type": "code",
   "execution_count": 14,
   "metadata": {},
   "outputs": [
    {
     "data": {
      "text/plain": [
       "[False, True, True, True, True, False, False, False, False, True, True, False]"
      ]
     },
     "execution_count": 14,
     "metadata": {},
     "output_type": "execute_result"
    }
   ],
   "source": [
    "bad_months = list([])\n",
    "for i in range(0, len(profit)):\n",
    "    bad_months.append(profit_after_tax[i] < mean_pat)\n",
    "bad_months"
   ]
  },
  {
   "cell_type": "code",
   "execution_count": 16,
   "metadata": {},
   "outputs": [
    {
     "data": {
      "text/plain": [
       "[False,\n",
       " False,\n",
       " False,\n",
       " False,\n",
       " False,\n",
       " False,\n",
       " False,\n",
       " False,\n",
       " False,\n",
       " False,\n",
       " False,\n",
       " True]"
      ]
     },
     "execution_count": 16,
     "metadata": {},
     "output_type": "execute_result"
    }
   ],
   "source": [
    "best_months = list([])\n",
    "for i in range(0, len(profit)):\n",
    "    best_months.append(profit_after_tax[i] == max(profit_after_tax))\n",
    "best_months"
   ]
  },
  {
   "cell_type": "code",
   "execution_count": 17,
   "metadata": {},
   "outputs": [
    {
     "data": {
      "text/plain": [
       "[False,\n",
       " False,\n",
       " True,\n",
       " False,\n",
       " False,\n",
       " False,\n",
       " False,\n",
       " False,\n",
       " False,\n",
       " False,\n",
       " False,\n",
       " False]"
      ]
     },
     "execution_count": 17,
     "metadata": {},
     "output_type": "execute_result"
    }
   ],
   "source": [
    "worst_months = list([])\n",
    "for i in range(0, len(profit)):\n",
    "    worst_months.append(profit_after_tax[i] == min(profit_after_tax))\n",
    "worst_months"
   ]
  }
 ],
 "metadata": {
  "kernelspec": {
   "display_name": "Python 3",
   "language": "python",
   "name": "python3"
  },
  "language_info": {
   "codemirror_mode": {
    "name": "ipython",
    "version": 3
   },
   "file_extension": ".py",
   "mimetype": "text/x-python",
   "name": "python",
   "nbconvert_exporter": "python",
   "pygments_lexer": "ipython3",
   "version": "3.6.5"
  }
 },
 "nbformat": 4,
 "nbformat_minor": 2
}
